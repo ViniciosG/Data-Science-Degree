{
 "cells": [
  {
   "cell_type": "markdown",
   "id": "cec47c4b-fb62-46dc-8ae9-e0c62af66d44",
   "metadata": {},
   "source": [
    "## Exercício 07\n",
    "\n",
    "Execute o comando abaixo e procure na variável s as strings as palavras que podem ser nomes próprios em todas a string. \n",
    "DICA: *split* em '\\n' para as quebras de linhas e cada frase *split* pelo espaço para obter todas as palavras."
   ]
  },
  {
   "cell_type": "code",
   "execution_count": 3,
   "id": "a4872502-1451-4d11-8348-dccfa1230dfe",
   "metadata": {},
   "outputs": [
    {
     "name": "stdout",
     "output_type": "stream",
     "text": [
      "['Gur', 'Mra', 'bs', 'Clguba,', 'ol', 'Gvz', 'Crgref\\n\\nOrnhgvshy', 'vf', 'orggre', 'guna', 'htyl.\\nRkcyvpvg', 'vf', 'orggre', 'guna', 'vzcyvpvg.\\nFvzcyr', 'vf', 'orggre', 'guna', 'pbzcyrk.\\nPbzcyrk', 'vf', 'orggre', 'guna', 'pbzcyvpngrq.\\nSyng', 'vf', 'orggre', 'guna', 'arfgrq.\\nFcnefr', 'vf', 'orggre', 'guna', 'qrafr.\\nErnqnovyvgl', 'pbhagf.\\nFcrpvny', 'pnfrf', \"nera'g\", 'fcrpvny', 'rabhtu', 'gb', 'oernx', 'gur', 'ehyrf.\\nNygubhtu', 'cenpgvpnyvgl', 'orngf', 'chevgl.\\nReebef', 'fubhyq', 'arire', 'cnff', 'fvyragyl.\\nHayrff', 'rkcyvpvgyl', 'fvyraprq.\\nVa', 'gur', 'snpr', 'bs', 'nzovthvgl,', 'ershfr', 'gur', 'grzcgngvba', 'gb', 'thrff.\\nGurer', 'fubhyq', 'or', 'bar--', 'naq', 'cersrenoyl', 'bayl', 'bar', '--boivbhf', 'jnl', 'gb', 'qb', 'vg.\\nNygubhtu', 'gung', 'jnl', 'znl', 'abg', 'or', 'boivbhf', 'ng', 'svefg', 'hayrff', \"lbh'er\", 'Qhgpu.\\nAbj', 'vf', 'orggre', 'guna', 'arire.\\nNygubhtu', 'arire', 'vf', 'bsgra', 'orggre', 'guna', '*evtug*', 'abj.\\nVs', 'gur', 'vzcyrzragngvba', 'vf', 'uneq', 'gb', 'rkcynva,', \"vg'f\", 'n', 'onq', 'vqrn.\\nVs', 'gur', 'vzcyrzragngvba', 'vf', 'rnfl', 'gb', 'rkcynva,', 'vg', 'znl', 'or', 'n', 'tbbq', 'vqrn.\\nAnzrfcnprf', 'ner', 'bar', 'ubaxvat', 'terng', 'vqrn', '--', \"yrg'f\", 'qb', 'zber', 'bs', 'gubfr!']\n"
     ]
    }
   ],
   "source": [
    "import this\n",
    "\n",
    "string_ = this.s.split(' ')\n",
    "print(string_)"
   ]
  },
  {
   "cell_type": "markdown",
   "id": "3c521062-e9db-489b-85f8-6e28a870551c",
   "metadata": {},
   "source": [
    "## Finalizando\n",
    "\n",
    "1 - Entender a importância do if como um recursos de filtragem de dados e seleção.\n",
    "\n",
    "2 - Usar uma lista e seus métodos para a manipulação do conteúdo\n",
    "\n",
    "3 - Usar o *Loop for* para "
   ]
  },
  {
   "cell_type": "markdown",
   "id": "d046b4cb-875f-488c-a74c-888e2e9d9bb9",
   "metadata": {},
   "source": [
    "## Loop While\n",
    "\n",
    "O laço for toma uma coleção de itens e executa um bloco de código uma vez para cada item da coleção. Em comparação, o laço *while* executa durante o tempo em que, ou enquanto, uma determinada condição for verdadeira.\n",
    "\n",
    "  <figure style=\"text-align: center;\">\n",
    "      <img type=\"image/png\" src=\"https://panda.ime.usp.br/pensepy/static/pensepy/_images/while_flow.png\" width=\"40%\" alt=\"fluxo unário\"/>\n",
    "      <figcaption>Diagrama de fluxo de execução do loop while<br>\n",
    "       https://panda.ime.usp.br/pensepy/static/pensepy/_images/while_flow.png</figcaption>\n",
    "  </figure>"
   ]
  },
  {
   "cell_type": "markdown",
   "id": "c53e6439-7159-4773-a4d3-ba7d1865cde4",
   "metadata": {},
   "source": [
    "### Exercício 01\n",
    "\n",
    "Com base no *script* abaixo. Construa a versão desse código usando while. E implemente um controle de erro que permita o usuário digitar\n",
    "novamente a entrada caso não sejam números separados por vírgulas.\n",
    "``` python\n",
    "list_input_strs = input(\"Insira a lista de números separados por vírgulas:\").split(',')\n",
    "list_values = []\n",
    "\n",
    "#loop for por elementos\n",
    "for value in list_input_strs:\n",
    "    value_square = int(value)**2\n",
    "    list_values.append(str(value_square))\n",
    "```"
   ]
  },
  {
   "cell_type": "code",
   "execution_count": 61,
   "id": "98b630ad-ee10-4a34-b0e5-77c137bacf70",
   "metadata": {},
   "outputs": [],
   "source": [
    "#Code"
   ]
  },
  {
   "cell_type": "markdown",
   "id": "e0790abe-7eea-401f-8ef8-887d32d45a00",
   "metadata": {},
   "source": [
    "Ao final do while podemos utilizar a instrução else. O propósito disso é executar alguma instrução ou bloco de código ao final do loop."
   ]
  },
  {
   "cell_type": "markdown",
   "id": "b2461f4a-3c00-42ba-8eee-0541fa184602",
   "metadata": {},
   "source": [
    "### Exemplo\n",
    "\n",
    "Faça um script python que acumule diversos valores inseridos pelo usuário. Esses valores devem ser inseridos um a um e quando o usuário digitar um character que não possa ser convertido para um número o programa deve parar e imprimir o valor acumulado."
   ]
  },
  {
   "cell_type": "code",
   "execution_count": 60,
   "id": "fe0ce635-d896-44e0-8419-7509e77e024d",
   "metadata": {},
   "outputs": [],
   "source": [
    "#Code"
   ]
  },
  {
   "cell_type": "markdown",
   "id": "f655fe39-9e46-4f67-8199-42a1db5c1772",
   "metadata": {},
   "source": [
    "## Iterator\n",
    "\n",
    "O *Iterador* é um padrão de projeto comportamental que permite a passagem sequencial através de uma estrutura de dados complexa sem expor seus detalhes internos.\n",
    "\n",
    "**Pontos positivos** O comportamento *lazy* faz com que os dados já inspecionados são removidos da memória. Ganho de performance em processo e memória \\\n",
    "**Pontos negativos** Uma vez a inspeção feita não teremos mais acesso aos dados visitados. Algumas informações sobre a estrutura não são visíveis."
   ]
  },
  {
   "cell_type": "code",
   "execution_count": 56,
   "id": "f44a1d71-48a0-4d12-b7ea-2b849ec2e5ba",
   "metadata": {},
   "outputs": [],
   "source": [
    "#Code"
   ]
  },
  {
   "cell_type": "markdown",
   "id": "59d4b6c0-0b4b-49b5-a689-9d297dfcfcfa",
   "metadata": {},
   "source": [
    "Quando usamos o *while* podemos inspecionar de maneira diferente:"
   ]
  },
  {
   "cell_type": "code",
   "execution_count": 57,
   "id": "b5b76058-e8c7-47c7-b87d-97727d5331fe",
   "metadata": {},
   "outputs": [],
   "source": [
    "#Code"
   ]
  },
  {
   "cell_type": "code",
   "execution_count": 58,
   "id": "bb15a3ad-45bf-4f61-ac4b-6d66401d80ea",
   "metadata": {},
   "outputs": [],
   "source": [
    "#Code"
   ]
  },
  {
   "cell_type": "code",
   "execution_count": 59,
   "id": "17bfa43d-a710-45f3-b351-950405d8c7ce",
   "metadata": {},
   "outputs": [],
   "source": [
    "#Code"
   ]
  },
  {
   "cell_type": "markdown",
   "id": "a19340a8-f9f3-4fc9-8727-b5922b604426",
   "metadata": {},
   "source": [
    "# Dicionários\n",
    "\n",
    "Os dicionários são coleções de itens e seus elementos são armazenados de forma não ordenada, a partir de uma relação chave-valor.\n",
    "\n",
    "- Uma chave que vai servir para indexar determinado elemento no dicionário.\n",
    "- O valor aceita diversos tipos: listas, outros dicionários, inteiros, strings, objetos e funções.\n",
    "- Sua sintaxe básica é: {'chave': 'valor'}. Utiliza-se {} para delimitar o dicionário e a chave é separada do valor por dois pontos \":\""
   ]
  },
  {
   "cell_type": "code",
   "execution_count": 67,
   "id": "e921eba7-aab1-44fe-9dde-ce9fd768f8f7",
   "metadata": {},
   "outputs": [],
   "source": [
    "#Code"
   ]
  },
  {
   "cell_type": "markdown",
   "id": "05e168ac-1817-4007-846a-1ce6b3bfb4c4",
   "metadata": {},
   "source": [
    "Outra maneira consiste em usar a função ```zip```."
   ]
  },
  {
   "cell_type": "code",
   "execution_count": 66,
   "id": "5b6855f9-4795-4422-8ef6-ea33eaeffb21",
   "metadata": {},
   "outputs": [],
   "source": [
    "#Code"
   ]
  },
  {
   "cell_type": "markdown",
   "id": "f4083257-9714-4f61-a3c2-5e3b3c0e0554",
   "metadata": {},
   "source": [
    "Para acessar, criar, alterar e remover os dados podemos utilizar os seguintes comandos:"
   ]
  },
  {
   "cell_type": "code",
   "execution_count": 65,
   "id": "6ef90423-18c3-4f26-bd54-09ee217e8770",
   "metadata": {},
   "outputs": [],
   "source": [
    "#Code"
   ]
  },
  {
   "cell_type": "markdown",
   "id": "43ec6930-ceac-48af-8e23-3c9e20d71503",
   "metadata": {},
   "source": [
    "Podemos ter acesso exclusivamenente as chaves ou aos valores utilizando as funções keys() e values(), respectivamente."
   ]
  },
  {
   "cell_type": "code",
   "execution_count": 64,
   "id": "286d4156-c028-4e52-8388-8bae8a7c8532",
   "metadata": {},
   "outputs": [],
   "source": [
    "#Code"
   ]
  },
  {
   "cell_type": "markdown",
   "id": "4f929947-c05d-40bd-a4ab-6d2af5ced4a9",
   "metadata": {},
   "source": [
    "Quando percorremos um dicionário com um loop, por definição ele mapeia pelo índice:"
   ]
  },
  {
   "cell_type": "code",
   "execution_count": 63,
   "id": "cd5f1162-4d07-4a97-9365-9677064de9d7",
   "metadata": {},
   "outputs": [],
   "source": [
    "#Code"
   ]
  },
  {
   "cell_type": "markdown",
   "id": "598c6e7c-3cc4-44cc-b26a-ad92f8296e45",
   "metadata": {},
   "source": [
    "Contudo podemos percorrer os ítens pelas tuplas com o método *items()*."
   ]
  },
  {
   "cell_type": "code",
   "execution_count": 53,
   "id": "4a7b5834-fda8-40e4-9529-e9c77d3641b8",
   "metadata": {},
   "outputs": [],
   "source": [
    "#Code"
   ]
  },
  {
   "cell_type": "markdown",
   "id": "f634f962-cd31-4c6a-a33b-205733d9dbcb",
   "metadata": {},
   "source": [
    "## Exemplo 01\n",
    "\n",
    "Um programador python recebeu os dados de uma planinha a partir de um *streaming*. Os dados sempre chegam com um cabeçalho e os dados em forma de string separado por vírgula, como no exemplo:\n",
    "\n",
    "``` python\n",
    "list_data = ['ano, mes, dia, valor', '2020, 01, 01, 150.0']\n",
    "```\n",
    "\n",
    "Com base nessas informações faça um script python que mapeia a lista nesse formato e transforma em um dicionário da forma\n",
    "\n",
    "``` python\n",
    "dict_data = {'ano':'2020', 'mes':'01', 'dia':'01', 'valor':'150.0'}\n",
    "```"
   ]
  },
  {
   "cell_type": "code",
   "execution_count": 52,
   "id": "14358c93-1c3e-4a81-b3a7-11c6c6071a5d",
   "metadata": {},
   "outputs": [],
   "source": [
    "#Code"
   ]
  },
  {
   "cell_type": "markdown",
   "id": "c69e313d-4bfe-41f6-adf0-5ebe30feeee1",
   "metadata": {},
   "source": [
    "## Exercício 02 \n",
    "\n",
    "Com base no exercício anterior, generalize o script para que possa ler uma lista que contêm vários dados que chegarão no formato:\n",
    "```python\n",
    "list_data = [['ano, mes, dia, valor', '2020, 01, 01, 150.0'], ['ano, mes, dia, valor', '2020, 01, 02, 250.0'], ['ano, mes, dia, valor', '2020, 01, 03, 20.0'], ['ano, mes, dia, valor', '2020, 01, 04, 300.0']]\n",
    "```\n",
    "\n",
    "``` python\n",
    "dict_data = [{'ano':'2020', 'mes':'01', 'dia':'01', 'valor':'150.0'}, {'ano':'2020', 'mes':'01', 'dia':'02', 'valor':'250.0'}. {'ano':'2020', 'mes':'01', 'dia':'03', 'valor':'20.0'}, {'ano':'2020', 'mes':'01', 'dia':'04', 'valor':'300.0'}]\n",
    "```"
   ]
  },
  {
   "cell_type": "code",
   "execution_count": 51,
   "id": "e652c09e-19bc-4f9f-a906-739fd000df21",
   "metadata": {},
   "outputs": [],
   "source": [
    "#Code"
   ]
  },
  {
   "cell_type": "markdown",
   "id": "99022dcc-f7b4-4cc4-af4c-c5a80b84fd5c",
   "metadata": {},
   "source": [
    "## Exercício 03\n",
    "\n",
    "Dada a lista abaixo, crie um dicionário que tenha as chaves como o nome do estudante e o valor a média:\n",
    "```python\n",
    "list_alunos = ['Aluno1', ['Aluno1', 10], 'Aluno1' , ['Aluno1', 3], ['Aluno1', 9], ['Aluno1', 5], ['Aluno2', 7.5], ['Aluno1', 8], 'Aluno5',\n",
    "               ['Aluno1', 3], ['Aluno2', 3], ['Aluno2', 3], None, None, 'Aluno2', ['Aluno1', 10]]\n",
    "```"
   ]
  },
  {
   "cell_type": "code",
   "execution_count": 54,
   "id": "9bbd1beb-44ea-496e-a86d-8c12d83d48b9",
   "metadata": {},
   "outputs": [],
   "source": [
    "#Code"
   ]
  },
  {
   "cell_type": "markdown",
   "id": "5c7aa935-c4ba-474a-bd5f-3d29b655fd97",
   "metadata": {},
   "source": [
    "## Dict Compreension\n",
    "\n",
    "Assim como nas listas, os dicionários possuem a possibilidade de serem mapeados um loop na declaração. Assim como o *list compreension*.\n",
    "\n",
    "{<_key_>:<_value_> for <item> in <sequência>}\n",
    "    \n",
    "{<_key_>:<_value_> for <item> in <sequência> if <condição> }"
   ]
  },
  {
   "cell_type": "markdown",
   "id": "79bf643d-9d67-4b43-85a9-a872547c1fb5",
   "metadata": {},
   "source": [
    "## Exercício 04\n",
    "\n",
    "Usando o *dict compreension* filtre o dicionário *dict_alunos* para obter o dicionário somente com os alunos com nota acima 7."
   ]
  },
  {
   "cell_type": "code",
   "execution_count": 55,
   "id": "9f6f9c04-b68d-442c-9388-329bfa7303d3",
   "metadata": {},
   "outputs": [],
   "source": [
    "#Code"
   ]
  }
 ],
 "metadata": {
  "kernelspec": {
   "display_name": "Python 3",
   "language": "python",
   "name": "python3"
  },
  "language_info": {
   "codemirror_mode": {
    "name": "ipython",
    "version": 3
   },
   "file_extension": ".py",
   "mimetype": "text/x-python",
   "name": "python",
   "nbconvert_exporter": "python",
   "pygments_lexer": "ipython3",
   "version": "3.8.10"
  }
 },
 "nbformat": 4,
 "nbformat_minor": 5
}
