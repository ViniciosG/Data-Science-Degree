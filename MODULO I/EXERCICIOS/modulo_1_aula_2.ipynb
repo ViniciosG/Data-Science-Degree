{
 "cells": [
  {
   "cell_type": "markdown",
   "id": "0ee57625-c6f6-4ab9-8c7f-3e2593bede52",
   "metadata": {},
   "source": [
    "## Conversão para Tipos\n",
    "\n",
    "O processo de conversão do valor de um tipo de dados (inteiro, string, float, etc.) em outro tipo de dados é chamado de conversão de tipo. Python tem dois tipos de conversão de tipo.\n",
    "\n",
    "Conversão de tipo implícita\n",
    "Conversão de tipo explícito"
   ]
  },
  {
   "cell_type": "code",
   "execution_count": null,
   "id": "a11eee4f-9a24-4913-b4d3-c1e5b3a1e17c",
   "metadata": {},
   "outputs": [],
   "source": [
    "# code"
   ]
  },
  {
   "cell_type": "markdown",
   "id": "c4e895aa-0e07-47c9-b524-47dd9d08339c",
   "metadata": {},
   "source": [
    "A **Conversão explícita** consiste em alterar o tipo a partir do uso de uma função do python."
   ]
  },
  {
   "cell_type": "code",
   "execution_count": null,
   "id": "ea8e49f8-9304-4179-a2d3-bc762c0b3cec",
   "metadata": {},
   "outputs": [],
   "source": [
    "# code"
   ]
  },
  {
   "cell_type": "markdown",
   "id": "32b35f9b-f456-4887-840a-f48f3583b57b",
   "metadata": {},
   "source": [
    "A função **int(value, base)** permita que um número seja convertido para uma outra base."
   ]
  },
  {
   "cell_type": "code",
   "execution_count": null,
   "id": "792bfe97-bbe2-4e45-9a46-205e0162a98a",
   "metadata": {},
   "outputs": [],
   "source": [
    "# code"
   ]
  },
  {
   "cell_type": "markdown",
   "id": "7bdc474f-712d-43b5-96e6-ef97d59e42bc",
   "metadata": {},
   "source": [
    "ord (): Esta função é usada para converter um caractere em um inteiro.\\\n",
    "hex (): Esta função converte um número inteiro em uma string hexadecimal.\\\n",
    "oct (): Esta função converte um inteiro em uma string octal."
   ]
  },
  {
   "cell_type": "code",
   "execution_count": null,
   "id": "88f8b6a3-9415-437a-b6df-067336142d55",
   "metadata": {},
   "outputs": [],
   "source": [
    "# code"
   ]
  },
  {
   "cell_type": "markdown",
   "id": "7e3d6769-d131-4066-9820-f45e11590cf5",
   "metadata": {
    "tags": []
   },
   "source": [
    "## Comando de seleção:\n",
    "\n",
    "Os **comandos de seleção** são fundamentais na implementação de rotinas que permitem uma adaptação da lógica a ser executada de acordo com uma condição.\n",
    "  <figure style=\"text-align: center;\">\n",
    "      <img type=\"image/png\" src=\"https://www.ime.usp.br/~leo/mac2166/2017-1/img/pt_fluxo_se.png\" width=\"20%\" alt=\"fluxo unário\"/>\n",
    "      <img type=\"image/png\" src=\"https://www.ime.usp.br/~leo/mac2166/2017-1/img/pt_fluxo_se_senao.png\" width=\"20%\" alt=\"fluxo binário\"/>\n",
    "      <figcaption>Diagrama de fluxo de execução unário (a esquerda) e binário (a direita)</figcaption>\n",
    "  </figure>\n"
   ]
  },
  {
   "cell_type": "markdown",
   "id": "084d93fb-ae02-428e-be0d-9efab0dcbbf9",
   "metadata": {},
   "source": [
    "### Exemplo 1\n",
    "\n",
    "Faça um código que calcula a raiz quadrada de um número, caso seja inserido um número negativo deverá imprimir uma mensagem pedindo um número válido."
   ]
  },
  {
   "cell_type": "code",
   "execution_count": null,
   "id": "aa9a7aa5-4c49-4417-b1ff-a4b5cc2602e2",
   "metadata": {},
   "outputs": [],
   "source": [
    "# code"
   ]
  },
  {
   "cell_type": "markdown",
   "id": "da728774-1333-415e-b8e0-0ba25f8f66ef",
   "metadata": {},
   "source": [
    "### Exercício 1\n",
    "\n",
    "Faça um código que o usuário insere a idade de uma pessoa e imprime na tela se a pessoa é pode dirigir ou não."
   ]
  },
  {
   "cell_type": "code",
   "execution_count": null,
   "id": "57e93055-25cf-4c7f-ae36-3c876a2b1664",
   "metadata": {},
   "outputs": [],
   "source": [
    "# CODE\n"
   ]
  },
  {
   "cell_type": "markdown",
   "id": "b7a6a15f-f23f-4f42-90bf-b794ae8c7026",
   "metadata": {},
   "source": [
    "### Exercício 2\n",
    "\n",
    "Sabendo que um triângulo deve ter um dos lados maior ou igual que a soma dos outros lados, faça um script python que recebe três números que representam as medidas dos lados de um possível triângulo e imprime na tela se é um triângulo válido.\n"
   ]
  },
  {
   "cell_type": "code",
   "execution_count": null,
   "id": "a05f37f3-65e3-4719-bbf4-41a324c54c38",
   "metadata": {},
   "outputs": [],
   "source": []
  },
  {
   "cell_type": "markdown",
   "id": "f3411bcf-0416-4d2a-a4c2-4a126334156b",
   "metadata": {},
   "source": [
    "## Condicionais Alinhados\n",
    "\n",
    "Um condicional pode também ser aninhado dentro de outro. Para exemplificar vamos fazer um código que recebe dois valores (x e y) e verifica quem é o maior e menor e se são iguais."
   ]
  },
  {
   "cell_type": "code",
   "execution_count": null,
   "id": "cfc15577-5f0a-4675-8634-0f5b2287c591",
   "metadata": {},
   "outputs": [],
   "source": []
  },
  {
   "cell_type": "markdown",
   "id": "5cbf7330-c5b0-474d-ae76-3cb66618b06f",
   "metadata": {},
   "source": [
    "O python oferece um recurso para condicinais alinhados chamado *elif*. "
   ]
  },
  {
   "cell_type": "code",
   "execution_count": null,
   "id": "db247516-f30e-4eb5-a421-e8a3b69c42de",
   "metadata": {},
   "outputs": [],
   "source": []
  },
  {
   "cell_type": "markdown",
   "id": "cb575d87-b474-4b31-a417-8da8aeebc43b",
   "metadata": {},
   "source": [
    "### DESAFIO 1\n",
    " \n",
    "Faça um script python que recebe uma URL \"https://site.com.br?id=1930&nome=fulano\" e ele valida os valores dos campos passados por parâmetros (**id** e **nome**) esses campos devem ser inteiros e string respectivamente. Caso sejam válidos o script deve imprimir \"campos válidos\" senão deve imprimir na tela qual o campo não é válido no formato \"campo "
   ]
  },
  {
   "cell_type": "code",
   "execution_count": null,
   "id": "8d7c391b-8f1a-4172-834b-8ad96f1b2e1a",
   "metadata": {},
   "outputs": [],
   "source": []
  },
  {
   "cell_type": "markdown",
   "id": "f454a672-0a64-48c1-947e-379afa9ef3c5",
   "metadata": {},
   "source": [
    "### Desafio 1.2\n",
    "\n",
    "Modifique o código anterior para verificar se o nome está com a primeira letra maiúscula, caso não esteja deverá imprimir um erro \"Campo nome inválido\"."
   ]
  },
  {
   "cell_type": "code",
   "execution_count": null,
   "id": "3151c465-fe2e-4948-95bb-7fc106679971",
   "metadata": {},
   "outputs": [],
   "source": []
  },
  {
   "cell_type": "markdown",
   "id": "f09f1033-e4e2-4b06-be33-1d75038efab6",
   "metadata": {
    "tags": []
   },
   "source": [
    "## Condicional *inline*\n",
    "\n",
    "Um recurso comum em algumas linguagens é o \"if inline\" que geralmente é um formato:\n",
    "\n",
    "*valor_se_verdade* **if** *condicional* **else** *valor_se_falso*\n",
    "\n",
    "**Ponto positivo:**\n",
    "Para filtros mais simples e para atribuição de variáveis ele funciona muito bem\n",
    "\n",
    "**Ponto negativo:**\n",
    "Para filtros complexos compromete a legibilidade do código."
   ]
  },
  {
   "cell_type": "markdown",
   "id": "fb3d523d-d78b-494e-8077-5ef7e36daaa4",
   "metadata": {},
   "source": [
    "## Exemplo 2\n",
    "\n",
    "Faça um *script* python que afirma se o nome é próprio ou não."
   ]
  },
  {
   "cell_type": "code",
   "execution_count": null,
   "id": "d3685dc7-2e5b-4f9d-83a8-aa2aa05dfc29",
   "metadata": {},
   "outputs": [],
   "source": []
  },
  {
   "cell_type": "markdown",
   "id": "f47f161c-7bb0-448c-aead-ed1bf5b16ee1",
   "metadata": {},
   "source": [
    "Suponhamos que agora seja necessários no mesmo if inline se o valor digitado seja necessariamente uma string sem números."
   ]
  },
  {
   "cell_type": "code",
   "execution_count": null,
   "id": "5cb59af6-32ec-4142-9412-532697108e5f",
   "metadata": {},
   "outputs": [],
   "source": []
  },
  {
   "cell_type": "markdown",
   "id": "48a5eee9-087a-405b-b53d-4ab75a4a505d",
   "metadata": {},
   "source": [
    "Um outras maneira de fazer um condicional em python (uma maneira não muito famosa) é usando a forma:\n",
    "result = (*valor_fora_da_condição*, *valor_dentro_da_condição*)[condição]\n"
   ]
  },
  {
   "cell_type": "code",
   "execution_count": null,
   "id": "790e7abb-933a-41b1-bfb8-1174a4ea046d",
   "metadata": {},
   "outputs": [],
   "source": []
  },
  {
   "cell_type": "code",
   "execution_count": null,
   "id": "b66d907f-3a11-4acb-81dc-63bde32a2365",
   "metadata": {},
   "outputs": [],
   "source": [
    "# code"
   ]
  },
  {
   "cell_type": "markdown",
   "id": "1cbdee5e-e0d2-4417-86d0-c01b8da347ce",
   "metadata": {},
   "source": [
    "## Finalizando\n",
    "\n",
    "1 - Quais as condições de uso de um condicional \\ \n",
    "2 - A diferença entre um condicional binário e unário \\\n",
    "3 - O uso do *elif* \\\n",
    "4 - O uso do *inline* ou usando tuplas"
   ]
  },
  {
   "cell_type": "markdown",
   "id": "8415dd2a-1c9b-4ec5-a029-c96441bc09b5",
   "metadata": {},
   "source": [
    "# Introdução Listas\n",
    "\n",
    "1 - Uma lista é uma coleção de elementos em uma ordem em particular.\\\n",
    "2 - Uma lista pode incluir as caracteres, strings, números, objetos complexos e até outra lista.\\\n",
    "3 - Em Python, colchetes ( [ ] ) indicam uma lista. Podemos também criar a partir da chamada a função *list()*.\n",
    "\n",
    "\n",
    "Como uma lista geralmente contém mais de um elemento, é uma boa ideia deixar seu nome no plural, por exemplo, *letters* , *digits* ou *names* ."
   ]
  },
  {
   "cell_type": "code",
   "execution_count": null,
   "id": "efa66ebe-891f-4509-8d80-de93437de10c",
   "metadata": {},
   "outputs": [],
   "source": [
    "# code"
   ]
  },
  {
   "cell_type": "markdown",
   "id": "9d4318ef-99d9-47ed-9d16-670953bd6a88",
   "metadata": {},
   "source": [
    "Podemos acessar os valores em uma lista a partir do índice do elemento."
   ]
  },
  {
   "cell_type": "code",
   "execution_count": null,
   "id": "c204b836-106d-4d74-a2db-8aab9f4e3c80",
   "metadata": {},
   "outputs": [],
   "source": [
    "# Code"
   ]
  },
  {
   "cell_type": "markdown",
   "id": "cc53422c-40e4-4222-b957-a80539e8f2e0",
   "metadata": {},
   "source": [
    "Para adicionar um elemento pode ser utilizado o método *insert(indice, valor)*, *append(valor)* ou o operador de atribuição *+=*. O insert permite dizer especificamente aonde irá inserir o valor, já o append e o operador de atribuição irá inserir somente no final da fila."
   ]
  },
  {
   "cell_type": "code",
   "execution_count": null,
   "id": "f09c3655-ae6f-413c-a6ac-b1c14720efc0",
   "metadata": {},
   "outputs": [],
   "source": [
    "# code"
   ]
  },
  {
   "cell_type": "markdown",
   "id": "b186ebf8-d73b-42ca-80b0-31f55efd934c",
   "metadata": {},
   "source": [
    "Para remover um elemento podemos usar o método *remove(value)*, *pop(index)* ou a função *del*."
   ]
  },
  {
   "cell_type": "code",
   "execution_count": null,
   "id": "33f99446-c9b9-40ca-aa1b-6bb743cbabba",
   "metadata": {},
   "outputs": [],
   "source": [
    "# code"
   ]
  },
  {
   "cell_type": "markdown",
   "id": "d37020a2-f1da-4a03-bd1e-61c033431ba9",
   "metadata": {},
   "source": [
    "Ordernar uma lista pode ser feito pelo método *sorted(list)* ou pelo método *sort()* implementado no próprio objeto *list*."
   ]
  },
  {
   "cell_type": "code",
   "execution_count": null,
   "id": "72573170-15f8-443d-90d4-b3373fdb3be2",
   "metadata": {},
   "outputs": [],
   "source": [
    "# code"
   ]
  },
  {
   "cell_type": "markdown",
   "id": "d56d7578-6793-4031-afb2-f8bc95fd073c",
   "metadata": {},
   "source": [
    "Algumas funções podem ser usadads quando uma lista e **só de valores numéricos**: min(), max(), sum()"
   ]
  },
  {
   "cell_type": "markdown",
   "id": "6c99d152-590c-4047-a11d-c5ca11d27b64",
   "metadata": {},
   "source": [
    "## Exercício\n",
    "\n",
    "Faça um script python que dada uma lista de número calcule:\n",
    "1 - a média de todos os valores\n",
    "2 - a distância do maior para o menor valor\n",
    "3 - a distância da média para o menor valor\n",
    "4 - a distância da média para o maior valor\n",
    "\n",
    "OBS.: len(lista): retorna o tamanho da lista\n",
    "      abs(valor): retorna o valor absoluto de um número."
   ]
  },
  {
   "cell_type": "code",
   "execution_count": null,
   "id": "07f7072d-9c76-4aa1-89c6-c2d0d60a4808",
   "metadata": {},
   "outputs": [],
   "source": [
    "# code"
   ]
  },
  {
   "cell_type": "markdown",
   "id": "5e3c00de-c4f0-46d6-b9bd-61f1f5019b70",
   "metadata": {},
   "source": [
    "# Finalizando\n",
    "\n",
    "1 - Entender o conceito de uma lista bem como sua função. \\\n",
    "2 - Entender as principais funções de uma lista \\\n",
    "3 - Usar as principais funções de uma lista. "
   ]
  }
 ],
 "metadata": {
  "kernelspec": {
   "display_name": "Python 3",
   "language": "python",
   "name": "python3"
  },
  "language_info": {
   "codemirror_mode": {
    "name": "ipython",
    "version": 3
   },
   "file_extension": ".py",
   "mimetype": "text/x-python",
   "name": "python",
   "nbconvert_exporter": "python",
   "pygments_lexer": "ipython3",
   "version": "3.8.10"
  }
 },
 "nbformat": 4,
 "nbformat_minor": 5
}
