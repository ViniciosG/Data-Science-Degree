{
 "cells": [
  {
   "cell_type": "markdown",
   "id": "57e6a44e-7e81-46b0-b51d-d208202d399a",
   "metadata": {
    "tags": []
   },
   "source": [
    "## Condicional *inline*\n",
    "\n",
    "Um recurso comum em algumas linguagens é o \"if inline\" que geralmente é um formato:\n",
    "\n",
    "*valor_se_verdade* **if** *condicional* **else** *valor_se_falso*\n",
    "\n",
    "**Ponto positivo:**\n",
    "Para filtros mais simples e para atribuição de variáveis ele funciona muito bem\n",
    "\n",
    "**Ponto negativo:**\n",
    "Para filtros complexos compromete a legibilidade do código."
   ]
  },
  {
   "cell_type": "markdown",
   "id": "76acdacd-f433-4929-bdd0-c631e310343b",
   "metadata": {},
   "source": [
    "## Exemplo 01\n",
    "\n",
    "Faça um *script* python que afirma se o nome é próprio ou não."
   ]
  },
  {
   "cell_type": "code",
   "execution_count": null,
   "id": "2519dfa3-1099-4a51-ba50-05cbc2146088",
   "metadata": {},
   "outputs": [],
   "source": [
    "nome = input(\"Digite um substantivo\")\n",
    "\n",
    "status_nome = \"Próprio\" if nome.istitle() else \"Comum\"\n",
    "print(f\"A palavra {nome} é um substantivo {status_nome}\")"
   ]
  },
  {
   "cell_type": "markdown",
   "id": "4308d438-969c-446b-813f-81f8433ca288",
   "metadata": {},
   "source": [
    "Suponhamos que agora seja necessários no mesmo if inline se o valor digitado seja necessariamente uma string sem números."
   ]
  },
  {
   "cell_type": "code",
   "execution_count": null,
   "id": "6d848b69-c823-417d-aa7b-f495b11a8a91",
   "metadata": {},
   "outputs": [],
   "source": [
    "nome = input(\"Digite um substantivo\")\n",
    "\n",
    "status_nome = None if not nome.isalpha() else (\"Próprio\" if nome.istitle() else \"Comum\")\n",
    "if status_nome:\n",
    "    print(f\"A palavra {nome} é um substantivo {status_nome}\")\n",
    "\n",
    "else: \n",
    "    print(\"Não é um valor válido\")"
   ]
  },
  {
   "cell_type": "markdown",
   "id": "96adee0f-7eec-46c1-bd3c-ff837a4eb3a4",
   "metadata": {},
   "source": [
    "Um outras maneira de fazer um condicional em python (uma maneira não muito famosa) é usando a forma:\n",
    "result = (*valor_fora_da_condição*, *valor_dentro_da_condição*)[condição]\n"
   ]
  },
  {
   "cell_type": "code",
   "execution_count": null,
   "id": "ca36a751-3ff5-4648-ad04-af8590501589",
   "metadata": {},
   "outputs": [],
   "source": [
    "nome = input(\"Digite um substantivo\")\n",
    "\n",
    "status_nome = (\"Comum\",\"Próprio\")[nome.istitle()]\n",
    "print(f\"A palavra {nome} é um substantivo {status_nome}\")"
   ]
  },
  {
   "cell_type": "code",
   "execution_count": null,
   "id": "60e51b98-fbbf-4138-bec9-f9c78c8241bb",
   "metadata": {},
   "outputs": [],
   "source": [
    "nome = input(\"Digite um substantivo\")\n",
    "\n",
    "status_nome = (None,\n",
    "               (\"Comum\",\"Próprio\")[nome.istitle()])[nome.isalpha()]\n",
    "if status_nome:\n",
    "    print(f\"A palavra {nome} é um substantivo {status_nome}\")\n",
    "\n",
    "else: \n",
    "    print(\"Não é um valor válido\")"
   ]
  },
  {
   "cell_type": "markdown",
   "id": "52065747-9b1b-4b4e-941e-89545865de60",
   "metadata": {},
   "source": [
    "## Finalizando\n",
    "\n",
    "1 - Quais as condições de uso de um condicional \\ \n",
    "2 - A diferença entre um condicional binário e unário \\\n",
    "3 - O uso do *elif* \\\n",
    "4 - O uso do *inline* ou usando tuplas"
   ]
  },
  {
   "cell_type": "markdown",
   "id": "8734915a-3601-4bcc-8acd-7ad792b948ba",
   "metadata": {},
   "source": [
    "# Introdução Listas\n",
    "\n",
    "1 - Uma lista é uma coleção de elementos em uma ordem em particular.\\\n",
    "2 - Uma lista pode incluir as caracteres, strings, números, objetos complexos e até outra lista.\\\n",
    "3 - Em Python, colchetes ( [ ] ) indicam uma lista. Podemos também criar a partir da chamada a função *list()*.\n",
    "\n",
    "\n",
    "Como uma lista geralmente contém mais de um elemento, é uma boa ideia deixar seu nome no plural, por exemplo, *letters* , *digits* ou *names* ."
   ]
  },
  {
   "cell_type": "code",
   "execution_count": null,
   "id": "6c31fbea-cf90-4f4b-9e13-4ce13ae84869",
   "metadata": {},
   "outputs": [],
   "source": [
    "#Exemplos de listas\n",
    "list_numbers = [1,2,3,4,5,10,-1]\n",
    "list_chars = ['a','b','c','d']\n",
    "list_motos = ['honda', 'yamaha', 'suzuki', 'kawasaki']\n",
    "\n",
    "print(list_motos)"
   ]
  },
  {
   "cell_type": "markdown",
   "id": "7734f690-17f6-46a3-96ef-1fe66c242bf3",
   "metadata": {},
   "source": [
    "Podemos acessar os valores em uma lista a partir do índice do elemento."
   ]
  },
  {
   "cell_type": "code",
   "execution_count": null,
   "id": "0b47556b-f3cb-453c-aa16-6417c42c6941",
   "metadata": {},
   "outputs": [],
   "source": [
    "print(\"Primeiro elemento: \", list_motos[0])\n",
    "print(\"Segundo elemento: \", list_motos[1])\n",
    "\n",
    "print(\"Ultimo elemento: \", list_motos[-1])\n",
    "print(\"Penúltimo elemento: \", list_motos[-2])"
   ]
  },
  {
   "cell_type": "markdown",
   "id": "7d7e5451-b724-4bea-9d60-a0b264297311",
   "metadata": {},
   "source": [
    "Para adicionar um elemento pode ser utilizado o método *insert(indice, valor)*, *append(valor)* ou o operador de atribuição *+=*. O insert permite dizer especificamente aonde irá inserir o valor, já o append e o operador de atribuição irá inserir somente no final da fila."
   ]
  },
  {
   "cell_type": "code",
   "execution_count": null,
   "id": "21874380-690c-49b9-b41a-d8bb1bdb76e3",
   "metadata": {},
   "outputs": [],
   "source": [
    "list_motos.insert(0, 'ducati')\n",
    "print(list_motos)\n",
    "\n",
    "list_motos.append('harley')\n",
    "print(list_motos)\n",
    "\n",
    "list_motos+=['ducati']\n",
    "print(list_motos)"
   ]
  },
  {
   "cell_type": "markdown",
   "id": "cd64ba8d-be41-4b5b-8802-53da6691338e",
   "metadata": {},
   "source": [
    "Para remover um elemento podemos usar o método *remove(value)*, *pop(index)* ou a função *del*."
   ]
  },
  {
   "cell_type": "code",
   "execution_count": null,
   "id": "63c01867-033a-4d0b-bc59-83e42eaddedd",
   "metadata": {},
   "outputs": [],
   "source": [
    "del list_motos[0]\n",
    "print(list_motos)\n",
    "\n",
    "element_poped = list_motos.pop(3)\n",
    "print(element_poped)\n",
    "print(list_motos)\n",
    "\n",
    "list_motos.remove('suzuki')\n",
    "print(list_motos)\n"
   ]
  },
  {
   "cell_type": "markdown",
   "id": "69d1abf2-f7bb-4b24-abbe-66a7cbce6a27",
   "metadata": {},
   "source": [
    "Ordernar uma lista pode ser feito pelo método *sorted(list)* ou pelo método *sort()* implementado no próprio objeto *list*."
   ]
  },
  {
   "cell_type": "code",
   "execution_count": null,
   "id": "585ae615-d27a-44d4-95a4-49eac5278d44",
   "metadata": {},
   "outputs": [],
   "source": [
    "list_motos_sorted = sorted(list_motos,reverse=False)\n",
    "list_motos_sorted_reversed = sorted(list_motos,reverse=True)\n",
    "\n",
    "print(', '.join(list_motos_sorted))\n",
    "print(', '.join(list_motos_sorted_reversed))"
   ]
  },
  {
   "cell_type": "markdown",
   "id": "d3af8e15-7b48-4c93-95c4-86bae72e3ff2",
   "metadata": {},
   "source": [
    "## Finalizando\n",
    "\n",
    "1 - Entender a importância do if como um recursos de filtragem de dados e seleção.\n",
    "\n",
    "2 - Usar uma lista e seus métodos para a manipulação do conteúdo\n",
    "\n",
    "3 - Usar o *Loop for* para "
   ]
  },
  {
   "cell_type": "code",
   "execution_count": null,
   "id": "a981b760-9f98-473e-ad2d-25f44c78d9db",
   "metadata": {},
   "outputs": [],
   "source": []
  }
 ],
 "metadata": {
  "kernelspec": {
   "display_name": "Python 3",
   "language": "python",
   "name": "python3"
  },
  "language_info": {
   "codemirror_mode": {
    "name": "ipython",
    "version": 3
   },
   "file_extension": ".py",
   "mimetype": "text/x-python",
   "name": "python",
   "nbconvert_exporter": "python",
   "pygments_lexer": "ipython3",
   "version": "3.8.10"
  }
 },
 "nbformat": 4,
 "nbformat_minor": 5
}
